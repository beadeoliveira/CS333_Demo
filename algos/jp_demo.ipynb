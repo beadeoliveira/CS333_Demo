{
 "cells": [
  {
   "cell_type": "markdown",
   "metadata": {},
   "source": [
    "# Technical Demo: Content Moderation"
   ]
  },
  {
   "cell_type": "code",
   "execution_count": 1,
   "metadata": {
    "ExecuteTime": {
     "end_time": "2023-11-17T16:04:47.299399Z",
     "start_time": "2023-11-17T16:04:47.249244Z"
    },
    "pycharm": {
     "name": "#%%\n"
    }
   },
   "outputs": [],
   "source": [
    "import ipywidgets as widgets"
   ]
  },
  {
   "cell_type": "code",
   "execution_count": 2,
   "metadata": {
    "ExecuteTime": {
     "end_time": "2023-11-17T16:04:52.255434Z",
     "start_time": "2023-11-17T16:04:51.714Z"
    }
   },
   "outputs": [
    {
     "ename": "ModuleNotFoundError",
     "evalue": "No module named 'fuzzywuzzy'",
     "output_type": "error",
     "traceback": [
      "\u001b[0;31m---------------------------------------------------------------------------\u001b[0m",
      "\u001b[0;31mModuleNotFoundError\u001b[0m                       Traceback (most recent call last)",
      "Input \u001b[0;32mIn [2]\u001b[0m, in \u001b[0;36m<cell line: 1>\u001b[0;34m()\u001b[0m\n\u001b[0;32m----> 1\u001b[0m \u001b[38;5;28;01mfrom\u001b[39;00m \u001b[38;5;21;01mhashing\u001b[39;00m \u001b[38;5;28;01mimport\u001b[39;00m hashing_algo\n",
      "File \u001b[0;32m~/PycharmProjects/CS333_Demo/algos/hashing.py:5\u001b[0m, in \u001b[0;36m<module>\u001b[0;34m\u001b[0m\n\u001b[1;32m      3\u001b[0m \u001b[38;5;28;01mfrom\u001b[39;00m \u001b[38;5;21;01mmulti_word\u001b[39;00m \u001b[38;5;28;01mimport\u001b[39;00m multi_word\n\u001b[1;32m      4\u001b[0m \u001b[38;5;28;01mfrom\u001b[39;00m \u001b[38;5;21;01mphonetic_matching\u001b[39;00m \u001b[38;5;28;01mimport\u001b[39;00m process_word\n\u001b[0;32m----> 5\u001b[0m \u001b[38;5;28;01mfrom\u001b[39;00m \u001b[38;5;21;01mfuzzy_algo\u001b[39;00m \u001b[38;5;28;01mimport\u001b[39;00m fuzzy_calculation\n\u001b[1;32m      8\u001b[0m \u001b[38;5;66;03m# IDEA: do (1) basic hashing (2) soundex (3) leveshtein\u001b[39;00m\n\u001b[1;32m      9\u001b[0m \u001b[38;5;66;03m# if 1 + (2 or 3), do both normally\u001b[39;00m\n\u001b[1;32m     10\u001b[0m \u001b[38;5;66;03m# if a combo of 2 and 3 only do 3 is matching 2\u001b[39;00m\n\u001b[1;32m     12\u001b[0m \u001b[38;5;28;01mdef\u001b[39;00m \u001b[38;5;21mbasic_hashing_moderation\u001b[39m(words, bad_words):\n\u001b[1;32m     13\u001b[0m     \u001b[38;5;66;03m# first method is to take a set of unique words and parse through the words\u001b[39;00m\n",
      "File \u001b[0;32m~/PycharmProjects/CS333_Demo/algos/fuzzy_algo.py:3\u001b[0m, in \u001b[0;36m<module>\u001b[0;34m\u001b[0m\n\u001b[1;32m      1\u001b[0m \u001b[38;5;66;03m# Levenshein distance for word comparison, fuzzy algorithm complete\u001b[39;00m\n\u001b[0;32m----> 3\u001b[0m \u001b[38;5;28;01mfrom\u001b[39;00m \u001b[38;5;21;01mfuzzywuzzy\u001b[39;00m \u001b[38;5;28;01mimport\u001b[39;00m fuzz\n\u001b[1;32m      4\u001b[0m \u001b[38;5;28;01mimport\u001b[39;00m \u001b[38;5;21;01mnumpy\u001b[39;00m\n\u001b[1;32m      5\u001b[0m \u001b[38;5;28;01mimport\u001b[39;00m \u001b[38;5;21;01mLevenshtein\u001b[39;00m\n",
      "\u001b[0;31mModuleNotFoundError\u001b[0m: No module named 'fuzzywuzzy'"
     ]
    }
   ],
   "source": [
    "from hashing import hashing_algo"
   ]
  },
  {
   "cell_type": "markdown",
   "metadata": {},
   "source": [
    "## Setup"
   ]
  },
  {
   "cell_type": "code",
   "execution_count": null,
   "metadata": {
    "ExecuteTime": {
     "end_time": "2023-11-17T16:04:52.822990Z",
     "start_time": "2023-11-17T16:04:52.808249Z"
    },
    "pycharm": {
     "name": "#%%\n"
    }
   },
   "outputs": [],
   "source": [
    "options = widgets.Dropdown(\n",
    "    options=[('All Methods', 'a'), ('Levenshtein Method', 'l'), ('Soundex', 's'), ('Basic Hashing', 'b'), \n",
    "             ('Soundex + Levenshtein', 'sl')],\n",
    "    value='a',\n",
    "    description='Algorithm:',\n",
    "    disabled=False,\n",
    "    layout=widgets.Layout(height='auto', width='auto')\n",
    ")"
   ]
  },
  {
   "cell_type": "code",
   "execution_count": null,
   "metadata": {
    "ExecuteTime": {
     "end_time": "2023-11-17T16:04:53.093783Z",
     "start_time": "2023-11-17T16:04:53.086579Z"
    }
   },
   "outputs": [],
   "source": [
    "input = widgets.Textarea(\n",
    "    value='Type your sample text here',\n",
    "    placeholder='Type something',\n",
    "    description='Input:',\n",
    "    disabled=False,\n",
    "    layout=widgets.Layout(height='100px', width='auto')\n",
    ")"
   ]
  },
  {
   "cell_type": "code",
   "execution_count": null,
   "metadata": {
    "ExecuteTime": {
     "end_time": "2023-11-17T16:04:53.310110Z",
     "start_time": "2023-11-17T16:04:53.303685Z"
    }
   },
   "outputs": [],
   "source": [
    "button = widgets.Button(\n",
    "    value=False,\n",
    "    description='Run Content Moderation',\n",
    "    disabled=False,\n",
    "    button_style='', # 'success', 'info', 'warning', 'danger' or ''\n",
    "    tooltip='Description',\n",
    "    icon='check', # (FontAwesome names without the `fa-` prefix),\n",
    "    layout=widgets.Layout(height='auto', width='auto')\n",
    ")"
   ]
  },
  {
   "cell_type": "code",
   "execution_count": null,
   "metadata": {
    "ExecuteTime": {
     "end_time": "2023-11-17T16:04:53.549732Z",
     "start_time": "2023-11-17T16:04:53.541724Z"
    }
   },
   "outputs": [],
   "source": [
    "output = widgets.Output(border = 'solid')"
   ]
  },
  {
   "cell_type": "code",
   "execution_count": null,
   "metadata": {
    "ExecuteTime": {
     "end_time": "2023-11-17T16:04:53.785017Z",
     "start_time": "2023-11-17T16:04:53.780341Z"
    }
   },
   "outputs": [],
   "source": [
    "inner_app = widgets.TwoByTwoLayout(\n",
    "    top_left= options,\n",
    "    bottom_left= button,\n",
    ")\n",
    "app = widgets.AppLayout(\n",
    "    left_sidebar=inner_app,\n",
    "    center=input,\n",
    "    right_sidebar=output,\n",
    "    )"
   ]
  },
  {
   "cell_type": "code",
   "execution_count": null,
   "metadata": {
    "ExecuteTime": {
     "end_time": "2023-11-17T16:04:54.052493Z",
     "start_time": "2023-11-17T16:04:54.046808Z"
    }
   },
   "outputs": [],
   "source": [
    "def on_button_clicked(b):\n",
    "    with output:\n",
    "        output.clear_output()\n",
    "        out = hashing_algo(options.value, input.value)\n",
    "        if not out:\n",
    "            print(\"Moderated Content Caught? \" + str(out))\n",
    "        else:\n",
    "            print(\"Moderated Content Caught? \" + str(out[0]))\n",
    "            print(\"Moderated words count = \", out[1])\n",
    "            print(\"Moderated Words = \", out[2])\n",
    "            print(\"Non-Moderated words = \", out[3])"
   ]
  },
  {
   "cell_type": "code",
   "execution_count": null,
   "metadata": {
    "ExecuteTime": {
     "end_time": "2023-11-17T16:04:54.265695Z",
     "start_time": "2023-11-17T16:04:54.262945Z"
    }
   },
   "outputs": [],
   "source": [
    "button.on_click(on_button_clicked)"
   ]
  },
  {
   "cell_type": "markdown",
   "metadata": {},
   "source": [
    "# Run App Demo"
   ]
  },
  {
   "cell_type": "markdown",
   "metadata": {},
   "source": [
    "To run this demo, select the algorithmic method you would like to use for our content moderation algorithm and your input then click the run button"
   ]
  },
  {
   "cell_type": "code",
   "execution_count": null,
   "metadata": {
    "ExecuteTime": {
     "end_time": "2023-11-17T16:04:55.108975Z",
     "start_time": "2023-11-17T16:04:55.105282Z"
    }
   },
   "outputs": [],
   "source": [
    "display(app)"
   ]
  },
  {
   "cell_type": "code",
   "execution_count": null,
   "metadata": {},
   "outputs": [],
   "source": []
  }
 ],
 "metadata": {
  "kernelspec": {
   "display_name": "Python 3 (ipykernel)",
   "language": "python",
   "name": "python3"
  },
  "language_info": {
   "codemirror_mode": {
    "name": "ipython",
    "version": 3
   },
   "file_extension": ".py",
   "mimetype": "text/x-python",
   "name": "python",
   "nbconvert_exporter": "python",
   "pygments_lexer": "ipython3",
   "version": "3.9.13"
  }
 },
 "nbformat": 4,
 "nbformat_minor": 4
}
